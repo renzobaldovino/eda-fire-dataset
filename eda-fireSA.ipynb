{
 "cells": [
  {
   "cell_type": "code",
   "execution_count": 1,
   "metadata": {},
   "outputs": [],
   "source": [
    "# Importing the libraries\n",
    "\n",
    "import numpy as np\n",
    "import pandas as pd\n",
    "import matplotlib.pyplot as plt\n",
    "import seaborn as sns"
   ]
  },
  {
   "cell_type": "code",
   "execution_count": 2,
   "metadata": {},
   "outputs": [
    {
     "data": {
      "text/html": [
       "<div>\n",
       "<style scoped>\n",
       "    .dataframe tbody tr th:only-of-type {\n",
       "        vertical-align: middle;\n",
       "    }\n",
       "\n",
       "    .dataframe tbody tr th {\n",
       "        vertical-align: top;\n",
       "    }\n",
       "\n",
       "    .dataframe thead th {\n",
       "        text-align: right;\n",
       "    }\n",
       "</style>\n",
       "<table border=\"1\" class=\"dataframe\">\n",
       "  <thead>\n",
       "    <tr style=\"text-align: right;\">\n",
       "      <th></th>\n",
       "      <th>Year</th>\n",
       "      <th>Month</th>\n",
       "      <th>Temperature</th>\n",
       "      <th>Place</th>\n",
       "      <th>Number</th>\n",
       "    </tr>\n",
       "  </thead>\n",
       "  <tbody>\n",
       "    <tr>\n",
       "      <th>0</th>\n",
       "      <td>2002</td>\n",
       "      <td>January</td>\n",
       "      <td>23.78</td>\n",
       "      <td>Spring Valley</td>\n",
       "      <td>1.0</td>\n",
       "    </tr>\n",
       "    <tr>\n",
       "      <th>1</th>\n",
       "      <td>2002</td>\n",
       "      <td>February</td>\n",
       "      <td>26.12</td>\n",
       "      <td>Porterville</td>\n",
       "      <td>2.0</td>\n",
       "    </tr>\n",
       "    <tr>\n",
       "      <th>2</th>\n",
       "      <td>2002</td>\n",
       "      <td>March</td>\n",
       "      <td>31.56</td>\n",
       "      <td>Winchester</td>\n",
       "      <td>7.0</td>\n",
       "    </tr>\n",
       "    <tr>\n",
       "      <th>3</th>\n",
       "      <td>2002</td>\n",
       "      <td>NaN</td>\n",
       "      <td>32.50</td>\n",
       "      <td>NaN</td>\n",
       "      <td>NaN</td>\n",
       "    </tr>\n",
       "    <tr>\n",
       "      <th>4</th>\n",
       "      <td>2002</td>\n",
       "      <td>April</td>\n",
       "      <td>36.34</td>\n",
       "      <td>Porterville</td>\n",
       "      <td>5.0</td>\n",
       "    </tr>\n",
       "  </tbody>\n",
       "</table>\n",
       "</div>"
      ],
      "text/plain": [
       "   Year     Month  Temperature          Place  Number\n",
       "0  2002   January        23.78  Spring Valley     1.0\n",
       "1  2002  February        26.12    Porterville     2.0\n",
       "2  2002     March        31.56     Winchester     7.0\n",
       "3  2002       NaN        32.50            NaN     NaN\n",
       "4  2002     April        36.34    Porterville     5.0"
      ]
     },
     "execution_count": 2,
     "metadata": {},
     "output_type": "execute_result"
    }
   ],
   "source": [
    "# Creating a dataframe from the csv dataset\n",
    "\n",
    "df = pd.read_csv(\"fireSA.csv\", index_col=0)\n",
    "df.columns = [\"Year\", \"Month\", \"Temperature\", \"Place\", \"Number\"]\n",
    "df.head()"
   ]
  },
  {
   "cell_type": "code",
   "execution_count": 3,
   "metadata": {},
   "outputs": [
    {
     "data": {
      "text/html": [
       "<div>\n",
       "<style scoped>\n",
       "    .dataframe tbody tr th:only-of-type {\n",
       "        vertical-align: middle;\n",
       "    }\n",
       "\n",
       "    .dataframe tbody tr th {\n",
       "        vertical-align: top;\n",
       "    }\n",
       "\n",
       "    .dataframe thead th {\n",
       "        text-align: right;\n",
       "    }\n",
       "</style>\n",
       "<table border=\"1\" class=\"dataframe\">\n",
       "  <thead>\n",
       "    <tr style=\"text-align: right;\">\n",
       "      <th></th>\n",
       "      <th>Year</th>\n",
       "      <th>Month</th>\n",
       "      <th>Temperature</th>\n",
       "      <th>Place</th>\n",
       "      <th>Number</th>\n",
       "    </tr>\n",
       "  </thead>\n",
       "  <tbody>\n",
       "    <tr>\n",
       "      <th>3</th>\n",
       "      <td>2002</td>\n",
       "      <td>NaN</td>\n",
       "      <td>32.5</td>\n",
       "      <td>NaN</td>\n",
       "      <td>NaN</td>\n",
       "    </tr>\n",
       "    <tr>\n",
       "      <th>22</th>\n",
       "      <td>2007</td>\n",
       "      <td>NaN</td>\n",
       "      <td>21.0</td>\n",
       "      <td>NaN</td>\n",
       "      <td>NaN</td>\n",
       "    </tr>\n",
       "    <tr>\n",
       "      <th>29</th>\n",
       "      <td>2008</td>\n",
       "      <td>NaN</td>\n",
       "      <td>NaN</td>\n",
       "      <td>Porterville</td>\n",
       "      <td>NaN</td>\n",
       "    </tr>\n",
       "  </tbody>\n",
       "</table>\n",
       "</div>"
      ],
      "text/plain": [
       "    Year Month  Temperature        Place  Number\n",
       "3   2002   NaN         32.5          NaN     NaN\n",
       "22  2007   NaN         21.0          NaN     NaN\n",
       "29  2008   NaN          NaN  Porterville     NaN"
      ]
     },
     "execution_count": 3,
     "metadata": {},
     "output_type": "execute_result"
    }
   ],
   "source": [
    "# Handling Null Values\n",
    "\n",
    "# The csv dataset contains multiple null values or missing values, which can affect the algorithms used to\n",
    "# analyze the data and the quality of the results following analysis. In this case, the null values in the\n",
    "# data columns are first displayed to determine their quantity and randomness.\n",
    "\n",
    "df[(df[\"Year\"].isnull()) | (df[\"Month\"].isnull()) | (df[\"Temperature\"].isnull()) | (df[\"Place\"].isnull()) | (df[\"Number\"].isnull())]"
   ]
  },
  {
   "cell_type": "code",
   "execution_count": 4,
   "metadata": {},
   "outputs": [
    {
     "data": {
      "text/plain": [
       "Year           0\n",
       "Month          0\n",
       "Temperature    0\n",
       "Place          0\n",
       "Number         0\n",
       "dtype: int64"
      ]
     },
     "execution_count": 4,
     "metadata": {},
     "output_type": "execute_result"
    }
   ],
   "source": [
    "# Looking at the results, there are three records containing null values and each record has three null values each.\n",
    "# Since majority of these records' data contain null values and the appearance of null values is random, it is better\n",
    "# to drop these records from the dataframe. This would eliminate discrepancies in the overall number of data for each\n",
    "# column and would allow us to easily construct relationships between fields.\n",
    "\n",
    "df_fire = df.dropna()\n",
    "df_fire.isnull().sum()"
   ]
  },
  {
   "cell_type": "code",
   "execution_count": 5,
   "metadata": {},
   "outputs": [
    {
     "data": {
      "text/html": [
       "<div>\n",
       "<style scoped>\n",
       "    .dataframe tbody tr th:only-of-type {\n",
       "        vertical-align: middle;\n",
       "    }\n",
       "\n",
       "    .dataframe tbody tr th {\n",
       "        vertical-align: top;\n",
       "    }\n",
       "\n",
       "    .dataframe thead th {\n",
       "        text-align: right;\n",
       "    }\n",
       "</style>\n",
       "<table border=\"1\" class=\"dataframe\">\n",
       "  <thead>\n",
       "    <tr style=\"text-align: right;\">\n",
       "      <th></th>\n",
       "      <th>Year</th>\n",
       "      <th>Month</th>\n",
       "      <th>Temperature</th>\n",
       "      <th>Place</th>\n",
       "      <th>Number</th>\n",
       "    </tr>\n",
       "  </thead>\n",
       "  <tbody>\n",
       "    <tr>\n",
       "      <th>0</th>\n",
       "      <td>2002</td>\n",
       "      <td>January</td>\n",
       "      <td>23.78</td>\n",
       "      <td>Spring Valley</td>\n",
       "      <td>1.0</td>\n",
       "    </tr>\n",
       "    <tr>\n",
       "      <th>1</th>\n",
       "      <td>2002</td>\n",
       "      <td>February</td>\n",
       "      <td>26.12</td>\n",
       "      <td>Porterville</td>\n",
       "      <td>2.0</td>\n",
       "    </tr>\n",
       "    <tr>\n",
       "      <th>2</th>\n",
       "      <td>2002</td>\n",
       "      <td>March</td>\n",
       "      <td>31.56</td>\n",
       "      <td>Winchester</td>\n",
       "      <td>7.0</td>\n",
       "    </tr>\n",
       "    <tr>\n",
       "      <th>4</th>\n",
       "      <td>2002</td>\n",
       "      <td>April</td>\n",
       "      <td>36.34</td>\n",
       "      <td>Porterville</td>\n",
       "      <td>5.0</td>\n",
       "    </tr>\n",
       "    <tr>\n",
       "      <th>5</th>\n",
       "      <td>2003</td>\n",
       "      <td>January</td>\n",
       "      <td>22.09</td>\n",
       "      <td>Winchester</td>\n",
       "      <td>0.0</td>\n",
       "    </tr>\n",
       "    <tr>\n",
       "      <th>6</th>\n",
       "      <td>2003</td>\n",
       "      <td>February</td>\n",
       "      <td>26.64</td>\n",
       "      <td>Spring Valley</td>\n",
       "      <td>1.0</td>\n",
       "    </tr>\n",
       "    <tr>\n",
       "      <th>7</th>\n",
       "      <td>2003</td>\n",
       "      <td>March</td>\n",
       "      <td>33.81</td>\n",
       "      <td>Spring Valley</td>\n",
       "      <td>3.0</td>\n",
       "    </tr>\n",
       "    <tr>\n",
       "      <th>8</th>\n",
       "      <td>2003</td>\n",
       "      <td>April</td>\n",
       "      <td>35.35</td>\n",
       "      <td>Porterville</td>\n",
       "      <td>6.0</td>\n",
       "    </tr>\n",
       "    <tr>\n",
       "      <th>9</th>\n",
       "      <td>2004</td>\n",
       "      <td>January</td>\n",
       "      <td>22.89</td>\n",
       "      <td>Winchester</td>\n",
       "      <td>1.0</td>\n",
       "    </tr>\n",
       "    <tr>\n",
       "      <th>10</th>\n",
       "      <td>2004</td>\n",
       "      <td>February</td>\n",
       "      <td>27.04</td>\n",
       "      <td>Porterville</td>\n",
       "      <td>1.0</td>\n",
       "    </tr>\n",
       "    <tr>\n",
       "      <th>11</th>\n",
       "      <td>2004</td>\n",
       "      <td>March</td>\n",
       "      <td>32.68</td>\n",
       "      <td>Winchester</td>\n",
       "      <td>4.0</td>\n",
       "    </tr>\n",
       "    <tr>\n",
       "      <th>12</th>\n",
       "      <td>2004</td>\n",
       "      <td>April</td>\n",
       "      <td>36.24</td>\n",
       "      <td>Winchester</td>\n",
       "      <td>7.0</td>\n",
       "    </tr>\n",
       "    <tr>\n",
       "      <th>13</th>\n",
       "      <td>2005</td>\n",
       "      <td>January</td>\n",
       "      <td>22.05</td>\n",
       "      <td>Spring Valley</td>\n",
       "      <td>0.0</td>\n",
       "    </tr>\n",
       "    <tr>\n",
       "      <th>14</th>\n",
       "      <td>2005</td>\n",
       "      <td>February</td>\n",
       "      <td>27.63</td>\n",
       "      <td>Porterville</td>\n",
       "      <td>2.0</td>\n",
       "    </tr>\n",
       "    <tr>\n",
       "      <th>15</th>\n",
       "      <td>2005</td>\n",
       "      <td>March</td>\n",
       "      <td>32.69</td>\n",
       "      <td>Winchester</td>\n",
       "      <td>6.0</td>\n",
       "    </tr>\n",
       "    <tr>\n",
       "      <th>16</th>\n",
       "      <td>2005</td>\n",
       "      <td>April</td>\n",
       "      <td>36.57</td>\n",
       "      <td>Porterville</td>\n",
       "      <td>5.0</td>\n",
       "    </tr>\n",
       "    <tr>\n",
       "      <th>17</th>\n",
       "      <td>2006</td>\n",
       "      <td>January</td>\n",
       "      <td>24.73</td>\n",
       "      <td>Porterville</td>\n",
       "      <td>1.0</td>\n",
       "    </tr>\n",
       "    <tr>\n",
       "      <th>18</th>\n",
       "      <td>2006</td>\n",
       "      <td>February</td>\n",
       "      <td>28.90</td>\n",
       "      <td>Winchester</td>\n",
       "      <td>2.0</td>\n",
       "    </tr>\n",
       "    <tr>\n",
       "      <th>19</th>\n",
       "      <td>2006</td>\n",
       "      <td>March</td>\n",
       "      <td>32.67</td>\n",
       "      <td>Winchester</td>\n",
       "      <td>4.0</td>\n",
       "    </tr>\n",
       "    <tr>\n",
       "      <th>20</th>\n",
       "      <td>2006</td>\n",
       "      <td>April</td>\n",
       "      <td>34.28</td>\n",
       "      <td>Spring Valley</td>\n",
       "      <td>5.0</td>\n",
       "    </tr>\n",
       "    <tr>\n",
       "      <th>21</th>\n",
       "      <td>2007</td>\n",
       "      <td>January</td>\n",
       "      <td>25.94</td>\n",
       "      <td>Porterville</td>\n",
       "      <td>1.0</td>\n",
       "    </tr>\n",
       "    <tr>\n",
       "      <th>23</th>\n",
       "      <td>2007</td>\n",
       "      <td>February</td>\n",
       "      <td>28.24</td>\n",
       "      <td>Spring Valley</td>\n",
       "      <td>1.0</td>\n",
       "    </tr>\n",
       "    <tr>\n",
       "      <th>24</th>\n",
       "      <td>2007</td>\n",
       "      <td>March</td>\n",
       "      <td>33.07</td>\n",
       "      <td>Winchester</td>\n",
       "      <td>4.0</td>\n",
       "    </tr>\n",
       "    <tr>\n",
       "      <th>25</th>\n",
       "      <td>2007</td>\n",
       "      <td>April</td>\n",
       "      <td>36.90</td>\n",
       "      <td>Winchester</td>\n",
       "      <td>5.0</td>\n",
       "    </tr>\n",
       "    <tr>\n",
       "      <th>26</th>\n",
       "      <td>2008</td>\n",
       "      <td>January</td>\n",
       "      <td>25.03</td>\n",
       "      <td>Winchester</td>\n",
       "      <td>3.0</td>\n",
       "    </tr>\n",
       "    <tr>\n",
       "      <th>27</th>\n",
       "      <td>2008</td>\n",
       "      <td>February</td>\n",
       "      <td>29.68</td>\n",
       "      <td>Porterville</td>\n",
       "      <td>2.0</td>\n",
       "    </tr>\n",
       "    <tr>\n",
       "      <th>28</th>\n",
       "      <td>2008</td>\n",
       "      <td>March</td>\n",
       "      <td>30.32</td>\n",
       "      <td>Spring Valley</td>\n",
       "      <td>4.0</td>\n",
       "    </tr>\n",
       "    <tr>\n",
       "      <th>30</th>\n",
       "      <td>2008</td>\n",
       "      <td>April</td>\n",
       "      <td>34.68</td>\n",
       "      <td>Spring Valley</td>\n",
       "      <td>6.0</td>\n",
       "    </tr>\n",
       "    <tr>\n",
       "      <th>31</th>\n",
       "      <td>2009</td>\n",
       "      <td>January</td>\n",
       "      <td>24.53</td>\n",
       "      <td>Porterville</td>\n",
       "      <td>1.0</td>\n",
       "    </tr>\n",
       "    <tr>\n",
       "      <th>32</th>\n",
       "      <td>2009</td>\n",
       "      <td>February</td>\n",
       "      <td>27.34</td>\n",
       "      <td>Winchester</td>\n",
       "      <td>2.0</td>\n",
       "    </tr>\n",
       "    <tr>\n",
       "      <th>33</th>\n",
       "      <td>2009</td>\n",
       "      <td>March</td>\n",
       "      <td>31.63</td>\n",
       "      <td>Spring Valley</td>\n",
       "      <td>7.0</td>\n",
       "    </tr>\n",
       "    <tr>\n",
       "      <th>34</th>\n",
       "      <td>2009</td>\n",
       "      <td>April</td>\n",
       "      <td>34.67</td>\n",
       "      <td>Winchester</td>\n",
       "      <td>5.0</td>\n",
       "    </tr>\n",
       "  </tbody>\n",
       "</table>\n",
       "</div>"
      ],
      "text/plain": [
       "    Year     Month  Temperature          Place  Number\n",
       "0   2002   January        23.78  Spring Valley     1.0\n",
       "1   2002  February        26.12    Porterville     2.0\n",
       "2   2002     March        31.56     Winchester     7.0\n",
       "4   2002     April        36.34    Porterville     5.0\n",
       "5   2003   January        22.09     Winchester     0.0\n",
       "6   2003  February        26.64  Spring Valley     1.0\n",
       "7   2003     March        33.81  Spring Valley     3.0\n",
       "8   2003     April        35.35    Porterville     6.0\n",
       "9   2004   January        22.89     Winchester     1.0\n",
       "10  2004  February        27.04    Porterville     1.0\n",
       "11  2004     March        32.68     Winchester     4.0\n",
       "12  2004     April        36.24     Winchester     7.0\n",
       "13  2005   January        22.05  Spring Valley     0.0\n",
       "14  2005  February        27.63    Porterville     2.0\n",
       "15  2005     March        32.69     Winchester     6.0\n",
       "16  2005     April        36.57    Porterville     5.0\n",
       "17  2006   January        24.73    Porterville     1.0\n",
       "18  2006  February        28.90     Winchester     2.0\n",
       "19  2006     March        32.67     Winchester     4.0\n",
       "20  2006     April        34.28  Spring Valley     5.0\n",
       "21  2007   January        25.94    Porterville     1.0\n",
       "23  2007  February        28.24  Spring Valley     1.0\n",
       "24  2007     March        33.07     Winchester     4.0\n",
       "25  2007     April        36.90     Winchester     5.0\n",
       "26  2008   January        25.03     Winchester     3.0\n",
       "27  2008  February        29.68    Porterville     2.0\n",
       "28  2008     March        30.32  Spring Valley     4.0\n",
       "30  2008     April        34.68  Spring Valley     6.0\n",
       "31  2009   January        24.53    Porterville     1.0\n",
       "32  2009  February        27.34     Winchester     2.0\n",
       "33  2009     March        31.63  Spring Valley     7.0\n",
       "34  2009     April        34.67     Winchester     5.0"
      ]
     },
     "execution_count": 5,
     "metadata": {},
     "output_type": "execute_result"
    }
   ],
   "source": [
    "# If we look at all the records in the current dataframe after handling the null values, the number of entries per year\n",
    "# are now four for each which makes it equal and each year have an instance of the months January, February, March, and\n",
    "# April.\n",
    "\n",
    "df_fire"
   ]
  },
  {
   "cell_type": "code",
   "execution_count": 6,
   "metadata": {},
   "outputs": [
    {
     "data": {
      "text/html": [
       "<div>\n",
       "<style scoped>\n",
       "    .dataframe tbody tr th:only-of-type {\n",
       "        vertical-align: middle;\n",
       "    }\n",
       "\n",
       "    .dataframe tbody tr th {\n",
       "        vertical-align: top;\n",
       "    }\n",
       "\n",
       "    .dataframe thead th {\n",
       "        text-align: right;\n",
       "    }\n",
       "</style>\n",
       "<table border=\"1\" class=\"dataframe\">\n",
       "  <thead>\n",
       "    <tr style=\"text-align: right;\">\n",
       "      <th></th>\n",
       "      <th>Year</th>\n",
       "      <th>Temperature</th>\n",
       "      <th>Number</th>\n",
       "    </tr>\n",
       "  </thead>\n",
       "  <tbody>\n",
       "    <tr>\n",
       "      <th>count</th>\n",
       "      <td>32.000000</td>\n",
       "      <td>32.000000</td>\n",
       "      <td>32.000000</td>\n",
       "    </tr>\n",
       "    <tr>\n",
       "      <th>mean</th>\n",
       "      <td>2005.500000</td>\n",
       "      <td>29.877812</td>\n",
       "      <td>3.250000</td>\n",
       "    </tr>\n",
       "    <tr>\n",
       "      <th>std</th>\n",
       "      <td>2.327951</td>\n",
       "      <td>4.672712</td>\n",
       "      <td>2.214323</td>\n",
       "    </tr>\n",
       "    <tr>\n",
       "      <th>min</th>\n",
       "      <td>2002.000000</td>\n",
       "      <td>22.050000</td>\n",
       "      <td>0.000000</td>\n",
       "    </tr>\n",
       "    <tr>\n",
       "      <th>25%</th>\n",
       "      <td>2003.750000</td>\n",
       "      <td>26.075000</td>\n",
       "      <td>1.000000</td>\n",
       "    </tr>\n",
       "    <tr>\n",
       "      <th>50%</th>\n",
       "      <td>2005.500000</td>\n",
       "      <td>30.000000</td>\n",
       "      <td>3.000000</td>\n",
       "    </tr>\n",
       "    <tr>\n",
       "      <th>75%</th>\n",
       "      <td>2007.250000</td>\n",
       "      <td>33.927500</td>\n",
       "      <td>5.000000</td>\n",
       "    </tr>\n",
       "    <tr>\n",
       "      <th>max</th>\n",
       "      <td>2009.000000</td>\n",
       "      <td>36.900000</td>\n",
       "      <td>7.000000</td>\n",
       "    </tr>\n",
       "  </tbody>\n",
       "</table>\n",
       "</div>"
      ],
      "text/plain": [
       "              Year  Temperature     Number\n",
       "count    32.000000    32.000000  32.000000\n",
       "mean   2005.500000    29.877812   3.250000\n",
       "std       2.327951     4.672712   2.214323\n",
       "min    2002.000000    22.050000   0.000000\n",
       "25%    2003.750000    26.075000   1.000000\n",
       "50%    2005.500000    30.000000   3.000000\n",
       "75%    2007.250000    33.927500   5.000000\n",
       "max    2009.000000    36.900000   7.000000"
      ]
     },
     "execution_count": 6,
     "metadata": {},
     "output_type": "execute_result"
    }
   ],
   "source": [
    "# Establishing statistical data for the numerical fields of the dataset\n",
    "\n",
    "df_fire.describe()"
   ]
  },
  {
   "cell_type": "code",
   "execution_count": 7,
   "metadata": {},
   "outputs": [
    {
     "data": {
      "image/png": "[encoded data removed]",
      "text/plain": [
       "<Figure size 432x288 with 1 Axes>"
      ]
     },
     "metadata": {
      "needs_background": "light"
     },
     "output_type": "display_data"
    },
    {
     "name": "stdout",
     "output_type": "stream",
     "text": [
      "Winchester       13\n",
      "Porterville      10\n",
      "Spring Valley     9\n",
      "Name: Place, dtype: int64\n"
     ]
    }
   ],
   "source": [
    "# 1. Which place has the most numerous cases of fire in general?\n",
    "\n",
    "# The place where the most number of fire cases were recorded is in Winchester. Based on the bar graph below, where the\n",
    "# instance of all places (Winchester, Porterville, and Spring Valley) are tallied, the case of fires in Winchester totals\n",
    "# 13 while the other two places, Porterville and Spring Valley, only have 10 and 9 respectively.\n",
    "\n",
    "places = [\"Winchester\", \"Porterville\", \"Spring Valley\"]\n",
    "case_per_place = df_fire[\"Place\"].value_counts()\n",
    "\n",
    "plt.bar(places, case_per_place)\n",
    "plt.title(\"Number of Fire Cases in a Place\")\n",
    "plt.xlabel(\"Place\")\n",
    "plt.show()\n",
    "\n",
    "print(case_per_place)"
   ]
  },
  {
   "cell_type": "code",
   "execution_count": 8,
   "metadata": {},
   "outputs": [
    {
     "data": {
      "text/plain": [
       "32.83444444444445"
      ]
     },
     "execution_count": 8,
     "metadata": {},
     "output_type": "execute_result"
    }
   ],
   "source": [
    "# 2. What is the average temperature in Winchester when number of cases is higher than 2?\n",
    "\n",
    "# On the records where Winchester has more than 2 cases of fire, the average temperature is 32.83 degrees.\n",
    "\n",
    "df_fire[\"Temperature\"][(df_fire[\"Place\"] == \"Winchester\") & (df_fire['Number'] > 2)].mean()"
   ]
  },
  {
   "cell_type": "code",
   "execution_count": 9,
   "metadata": {},
   "outputs": [
    {
     "data": {
      "text/html": [
       "<div>\n",
       "<style scoped>\n",
       "    .dataframe tbody tr th:only-of-type {\n",
       "        vertical-align: middle;\n",
       "    }\n",
       "\n",
       "    .dataframe tbody tr th {\n",
       "        vertical-align: top;\n",
       "    }\n",
       "\n",
       "    .dataframe thead th {\n",
       "        text-align: right;\n",
       "    }\n",
       "</style>\n",
       "<table border=\"1\" class=\"dataframe\">\n",
       "  <thead>\n",
       "    <tr style=\"text-align: right;\">\n",
       "      <th></th>\n",
       "      <th>Year</th>\n",
       "      <th>Month</th>\n",
       "      <th>Temperature</th>\n",
       "      <th>Place</th>\n",
       "      <th>Number</th>\n",
       "    </tr>\n",
       "  </thead>\n",
       "  <tbody>\n",
       "    <tr>\n",
       "      <th>21</th>\n",
       "      <td>2007</td>\n",
       "      <td>January</td>\n",
       "      <td>25.94</td>\n",
       "      <td>Porterville</td>\n",
       "      <td>1.0</td>\n",
       "    </tr>\n",
       "  </tbody>\n",
       "</table>\n",
       "</div>"
      ],
      "text/plain": [
       "    Year    Month  Temperature        Place  Number\n",
       "21  2007  January        25.94  Porterville     1.0"
      ]
     },
     "execution_count": 9,
     "metadata": {},
     "output_type": "execute_result"
    }
   ],
   "source": [
    "# 3. What is the maximum temperature during January?\n",
    "\n",
    "# The maximum temperature recorded on the month of January over the years is 25.94 degrees. Despite the fact that\n",
    "# this is the highest temperature recorded on the month, the number of fire cases on this record is one of the lowest.\n",
    "\n",
    "temp_df = df_fire[df_fire[\"Month\"] == \"January\"]\n",
    "temp_df[temp_df[\"Temperature\"] == temp_df[\"Temperature\"].max()]"
   ]
  },
  {
   "cell_type": "code",
   "execution_count": 10,
   "metadata": {},
   "outputs": [
    {
     "data": {
      "image/png": "[encoded data removed]",
      "text/plain": [
       "<Figure size 432x288 with 1 Axes>"
      ]
     },
     "metadata": {
      "needs_background": "light"
     },
     "output_type": "display_data"
    },
    {
     "name": "stdout",
     "output_type": "stream",
     "text": [
      "{2002: 15.0, 2003: 10.0, 2004: 13.0, 2005: 13.0, 2006: 12.0, 2007: 11.0, 2008: 15.0, 2009: 15.0}\n"
     ]
    }
   ],
   "source": [
    "# 4. Which year/s has/have the most number of cases?\n",
    "\n",
    "# To determine which year/s has/have the most number of cases, I created a dictionary to store the years as keys and\n",
    "# the sum of its respective cases as the value. After creating and assigning the values to the dictionary, a bar graph\n",
    "# was used to visualize the total number of cases per year. From this graph, we can see that the years 2002, 2008, and\n",
    "# 2009 have the most number of fire cases which is 15. \n",
    "\n",
    "cases_per_year = {}\n",
    "\n",
    "for i in range(8) :\n",
    "    cases_per_year[2002 + i] = df_fire[\"Number\"][df_fire[\"Year\"] == 2002 + i].sum()\n",
    "\n",
    "years = list(cases_per_year.keys())\n",
    "cases = list(cases_per_year.values())\n",
    "\n",
    "plt.bar(years, cases)\n",
    "plt.title(\"Number of Fire Cases per Year\")\n",
    "plt.xlabel(\"Year\")\n",
    "plt.ylabel(\"Fire Cases\")\n",
    "plt.show()\n",
    "\n",
    "print(cases_per_year)"
   ]
  },
  {
   "cell_type": "code",
   "execution_count": 11,
   "metadata": {},
   "outputs": [
    {
     "data": {
      "image/png": "[encoded data removed]",
      "text/plain": [
       "<Figure size 432x288 with 1 Axes>"
      ]
     },
     "metadata": {
      "needs_background": "light"
     },
     "output_type": "display_data"
    },
    {
     "name": "stdout",
     "output_type": "stream",
     "text": [
      "{'January': 8.0, 'February': 13.0, 'March': 39.0, 'April': 44.0}\n"
     ]
    }
   ],
   "source": [
    "# 5. Which month has the least number of cases?\n",
    "\n",
    "# In order to get the number of cases per month, I used the same method as above when getting the number of cases per\n",
    "# year. In this case, the month with the least number of cases is January since it only has a total of 8 fire cases\n",
    "# while the month with the most number of cases is April, having a total of 44 cases. Looking at the graph, the number\n",
    "# of cases shot up significantly in March compared to February. This must be the reason why March is considered the\n",
    "# Fire Prevention Month since it is the ideal month to start preparing for the cases of fire.\n",
    "\n",
    "months = [\"January\", \"February\", \"March\", \"April\"]\n",
    "cases_per_month = {}\n",
    "\n",
    "for month in months :\n",
    "    cases_per_month[month] = df_fire[\"Number\"][df_fire[\"Month\"] == month].sum()\n",
    "\n",
    "cases = list(cases_per_month.values())\n",
    "\n",
    "plt.bar(months, cases)\n",
    "plt.title(\"Number of Fire Cases per Month\")\n",
    "plt.xlabel(\"Month\")\n",
    "plt.ylabel(\"Fire Cases\")\n",
    "plt.show()\n",
    "\n",
    "print(cases_per_month)"
   ]
  },
  {
   "cell_type": "code",
   "execution_count": 12,
   "metadata": {},
   "outputs": [
    {
     "data": {
      "image/png": "[encoded data removed]",
      "text/plain": [
       "<Figure size 432x288 with 1 Axes>"
      ]
     },
     "metadata": {
      "needs_background": "light"
     },
     "output_type": "display_data"
    },
    {
     "name": "stdout",
     "output_type": "stream",
     "text": [
      "{'Winchester': 17.0, 'Porterville': 16.0, 'Spring Valley': 11.0}\n"
     ]
    },
    {
     "data": {
      "text/html": [
       "<div>\n",
       "<style scoped>\n",
       "    .dataframe tbody tr th:only-of-type {\n",
       "        vertical-align: middle;\n",
       "    }\n",
       "\n",
       "    .dataframe tbody tr th {\n",
       "        vertical-align: top;\n",
       "    }\n",
       "\n",
       "    .dataframe thead th {\n",
       "        text-align: right;\n",
       "    }\n",
       "</style>\n",
       "<table border=\"1\" class=\"dataframe\">\n",
       "  <thead>\n",
       "    <tr style=\"text-align: right;\">\n",
       "      <th></th>\n",
       "      <th>Year</th>\n",
       "      <th>Month</th>\n",
       "      <th>Temperature</th>\n",
       "      <th>Place</th>\n",
       "      <th>Number</th>\n",
       "    </tr>\n",
       "  </thead>\n",
       "  <tbody>\n",
       "    <tr>\n",
       "      <th>4</th>\n",
       "      <td>2002</td>\n",
       "      <td>April</td>\n",
       "      <td>36.34</td>\n",
       "      <td>Porterville</td>\n",
       "      <td>5.0</td>\n",
       "    </tr>\n",
       "    <tr>\n",
       "      <th>8</th>\n",
       "      <td>2003</td>\n",
       "      <td>April</td>\n",
       "      <td>35.35</td>\n",
       "      <td>Porterville</td>\n",
       "      <td>6.0</td>\n",
       "    </tr>\n",
       "    <tr>\n",
       "      <th>12</th>\n",
       "      <td>2004</td>\n",
       "      <td>April</td>\n",
       "      <td>36.24</td>\n",
       "      <td>Winchester</td>\n",
       "      <td>7.0</td>\n",
       "    </tr>\n",
       "    <tr>\n",
       "      <th>16</th>\n",
       "      <td>2005</td>\n",
       "      <td>April</td>\n",
       "      <td>36.57</td>\n",
       "      <td>Porterville</td>\n",
       "      <td>5.0</td>\n",
       "    </tr>\n",
       "    <tr>\n",
       "      <th>20</th>\n",
       "      <td>2006</td>\n",
       "      <td>April</td>\n",
       "      <td>34.28</td>\n",
       "      <td>Spring Valley</td>\n",
       "      <td>5.0</td>\n",
       "    </tr>\n",
       "    <tr>\n",
       "      <th>25</th>\n",
       "      <td>2007</td>\n",
       "      <td>April</td>\n",
       "      <td>36.90</td>\n",
       "      <td>Winchester</td>\n",
       "      <td>5.0</td>\n",
       "    </tr>\n",
       "    <tr>\n",
       "      <th>30</th>\n",
       "      <td>2008</td>\n",
       "      <td>April</td>\n",
       "      <td>34.68</td>\n",
       "      <td>Spring Valley</td>\n",
       "      <td>6.0</td>\n",
       "    </tr>\n",
       "    <tr>\n",
       "      <th>34</th>\n",
       "      <td>2009</td>\n",
       "      <td>April</td>\n",
       "      <td>34.67</td>\n",
       "      <td>Winchester</td>\n",
       "      <td>5.0</td>\n",
       "    </tr>\n",
       "  </tbody>\n",
       "</table>\n",
       "</div>"
      ],
      "text/plain": [
       "    Year  Month  Temperature          Place  Number\n",
       "4   2002  April        36.34    Porterville     5.0\n",
       "8   2003  April        35.35    Porterville     6.0\n",
       "12  2004  April        36.24     Winchester     7.0\n",
       "16  2005  April        36.57    Porterville     5.0\n",
       "20  2006  April        34.28  Spring Valley     5.0\n",
       "25  2007  April        36.90     Winchester     5.0\n",
       "30  2008  April        34.68  Spring Valley     6.0\n",
       "34  2009  April        34.67     Winchester     5.0"
      ]
     },
     "execution_count": 12,
     "metadata": {},
     "output_type": "execute_result"
    }
   ],
   "source": [
    "# 6. Which place has the greatest number of cases during April?\n",
    "\n",
    "# The place with the greatest number of cases during April is Winchester since it has a total of 17 cases. This can\n",
    "# be derived by adding the records of April 2004, 2007, and 2009\n",
    "\n",
    "df_april = df_fire[df_fire[\"Month\"] == \"April\"]\n",
    "april_place_dict = {}\n",
    "\n",
    "for place in places :\n",
    "    april_place_dict[place] = df_april[\"Number\"][df_fire[\"Place\"] == place].sum()\n",
    "\n",
    "cases = list(april_place_dict.values())\n",
    "\n",
    "plt.bar(places, cases)\n",
    "plt.title(\"Total Number of Cases per Place during April\")\n",
    "plt.xlabel(\"Place\")\n",
    "plt.ylabel(\"Fire Cases\")\n",
    "plt.show()\n",
    "\n",
    "print(april_place_dict)\n",
    "df_fire[df_fire[\"Month\"] == \"April\"]\n"
   ]
  },
  {
   "cell_type": "code",
   "execution_count": 13,
   "metadata": {},
   "outputs": [
    {
     "data": {
      "text/html": [
       "<div>\n",
       "<style scoped>\n",
       "    .dataframe tbody tr th:only-of-type {\n",
       "        vertical-align: middle;\n",
       "    }\n",
       "\n",
       "    .dataframe tbody tr th {\n",
       "        vertical-align: top;\n",
       "    }\n",
       "\n",
       "    .dataframe thead th {\n",
       "        text-align: right;\n",
       "    }\n",
       "</style>\n",
       "<table border=\"1\" class=\"dataframe\">\n",
       "  <thead>\n",
       "    <tr style=\"text-align: right;\">\n",
       "      <th></th>\n",
       "      <th>Year</th>\n",
       "      <th>Month</th>\n",
       "      <th>Temperature</th>\n",
       "      <th>Place</th>\n",
       "      <th>Number</th>\n",
       "    </tr>\n",
       "  </thead>\n",
       "  <tbody>\n",
       "    <tr>\n",
       "      <th>1</th>\n",
       "      <td>2002</td>\n",
       "      <td>February</td>\n",
       "      <td>26.12</td>\n",
       "      <td>Porterville</td>\n",
       "      <td>2.0</td>\n",
       "    </tr>\n",
       "  </tbody>\n",
       "</table>\n",
       "</div>"
      ],
      "text/plain": [
       "   Year     Month  Temperature        Place  Number\n",
       "1  2002  February        26.12  Porterville     2.0"
      ]
     },
     "execution_count": 13,
     "metadata": {},
     "output_type": "execute_result"
    }
   ],
   "source": [
    "# 7. What is the least temperature during February of 2002 to 2004?\n",
    "\n",
    "# During February of 2002 to 2004, the lowest temperature was recorded at 26.12 degrees. Since the resulting\n",
    "# temperature is below the average, the number of fire cases is also low.\n",
    "\n",
    "temp_df = df_fire[(df_fire[\"Year\"] >= 2002) & (df_fire[\"Year\"] <= 2004) & (df_fire[\"Month\"] == \"February\")]\n",
    "temp_df[temp_df[\"Temperature\"] == temp_df[\"Temperature\"].min()]\n"
   ]
  },
  {
   "cell_type": "code",
   "execution_count": 14,
   "metadata": {},
   "outputs": [
    {
     "data": {
      "text/html": [
       "<div>\n",
       "<style scoped>\n",
       "    .dataframe tbody tr th:only-of-type {\n",
       "        vertical-align: middle;\n",
       "    }\n",
       "\n",
       "    .dataframe tbody tr th {\n",
       "        vertical-align: top;\n",
       "    }\n",
       "\n",
       "    .dataframe thead th {\n",
       "        text-align: right;\n",
       "    }\n",
       "</style>\n",
       "<table border=\"1\" class=\"dataframe\">\n",
       "  <thead>\n",
       "    <tr style=\"text-align: right;\">\n",
       "      <th></th>\n",
       "      <th>Year</th>\n",
       "      <th>Month</th>\n",
       "      <th>Temperature</th>\n",
       "      <th>Place</th>\n",
       "      <th>Number</th>\n",
       "    </tr>\n",
       "  </thead>\n",
       "  <tbody>\n",
       "    <tr>\n",
       "      <th>31</th>\n",
       "      <td>2009</td>\n",
       "      <td>January</td>\n",
       "      <td>24.53</td>\n",
       "      <td>Porterville</td>\n",
       "      <td>1.0</td>\n",
       "    </tr>\n",
       "  </tbody>\n",
       "</table>\n",
       "</div>"
      ],
      "text/plain": [
       "    Year    Month  Temperature        Place  Number\n",
       "31  2009  January        24.53  Porterville     1.0"
      ]
     },
     "execution_count": 14,
     "metadata": {},
     "output_type": "execute_result"
    }
   ],
   "source": [
    "# 8. Which place has the least temperature from 2008 to 2009?\n",
    "\n",
    "# From 2008 to 2009, the place with the least temperature was Porterville with a temperature of 24.53 degrees.\n",
    "# Given that it has one of the lowest recorded temperatures, the number of cases on this record is also small.\n",
    "\n",
    "temp_df = df_fire[(df_fire[\"Year\"] >= 2008) & (df_fire[\"Year\"] <= 2009)]\n",
    "temp_df[temp_df[\"Temperature\"] == temp_df[\"Temperature\"].min()]"
   ]
  },
  {
   "cell_type": "code",
   "execution_count": 15,
   "metadata": {},
   "outputs": [
    {
     "data": {
      "text/html": [
       "<div>\n",
       "<style scoped>\n",
       "    .dataframe tbody tr th:only-of-type {\n",
       "        vertical-align: middle;\n",
       "    }\n",
       "\n",
       "    .dataframe tbody tr th {\n",
       "        vertical-align: top;\n",
       "    }\n",
       "\n",
       "    .dataframe thead th {\n",
       "        text-align: right;\n",
       "    }\n",
       "</style>\n",
       "<table border=\"1\" class=\"dataframe\">\n",
       "  <thead>\n",
       "    <tr style=\"text-align: right;\">\n",
       "      <th></th>\n",
       "      <th>Year</th>\n",
       "      <th>Month</th>\n",
       "      <th>Temperature</th>\n",
       "      <th>Place</th>\n",
       "      <th>Number</th>\n",
       "    </tr>\n",
       "  </thead>\n",
       "  <tbody>\n",
       "    <tr>\n",
       "      <th>25</th>\n",
       "      <td>2007</td>\n",
       "      <td>April</td>\n",
       "      <td>36.9</td>\n",
       "      <td>Winchester</td>\n",
       "      <td>5.0</td>\n",
       "    </tr>\n",
       "  </tbody>\n",
       "</table>\n",
       "</div>"
      ],
      "text/plain": [
       "    Year  Month  Temperature       Place  Number\n",
       "25  2007  April         36.9  Winchester     5.0"
      ]
     },
     "execution_count": 15,
     "metadata": {},
     "output_type": "execute_result"
    }
   ],
   "source": [
    "# 9. What is the highest temperature from 2003 to 2007?\n",
    "\n",
    "# The highest temperature recorded from 2003 to 2007 was 36.9 degrees. This is also the overall highest recorded \n",
    "# temperature in the dataset as seen in the next code cell.\n",
    "\n",
    "temp_df = df_fire[(df_fire[\"Year\"] >= 2003) & (df_fire[\"Year\"] <= 2007)]\n",
    "temp_df[temp_df[\"Temperature\"] == temp_df[\"Temperature\"].max()]"
   ]
  },
  {
   "cell_type": "code",
   "execution_count": 16,
   "metadata": {},
   "outputs": [
    {
     "data": {
      "text/html": [
       "<div>\n",
       "<style scoped>\n",
       "    .dataframe tbody tr th:only-of-type {\n",
       "        vertical-align: middle;\n",
       "    }\n",
       "\n",
       "    .dataframe tbody tr th {\n",
       "        vertical-align: top;\n",
       "    }\n",
       "\n",
       "    .dataframe thead th {\n",
       "        text-align: right;\n",
       "    }\n",
       "</style>\n",
       "<table border=\"1\" class=\"dataframe\">\n",
       "  <thead>\n",
       "    <tr style=\"text-align: right;\">\n",
       "      <th></th>\n",
       "      <th>Year</th>\n",
       "      <th>Month</th>\n",
       "      <th>Temperature</th>\n",
       "      <th>Place</th>\n",
       "      <th>Number</th>\n",
       "    </tr>\n",
       "  </thead>\n",
       "  <tbody>\n",
       "    <tr>\n",
       "      <th>25</th>\n",
       "      <td>2007</td>\n",
       "      <td>April</td>\n",
       "      <td>36.9</td>\n",
       "      <td>Winchester</td>\n",
       "      <td>5.0</td>\n",
       "    </tr>\n",
       "  </tbody>\n",
       "</table>\n",
       "</div>"
      ],
      "text/plain": [
       "    Year  Month  Temperature       Place  Number\n",
       "25  2007  April         36.9  Winchester     5.0"
      ]
     },
     "execution_count": 16,
     "metadata": {},
     "output_type": "execute_result"
    }
   ],
   "source": [
    "df_fire[df_fire[\"Temperature\"] == df_fire[\"Temperature\"].max()]"
   ]
  },
  {
   "cell_type": "code",
   "execution_count": 21,
   "metadata": {},
   "outputs": [
    {
     "data": {
      "image/png": "[encoded data removed]",
      "text/plain": [
       "<Figure size 432x288 with 1 Axes>"
      ]
     },
     "metadata": {
      "needs_background": "light"
     },
     "output_type": "display_data"
    },
    {
     "name": "stdout",
     "output_type": "stream",
     "text": [
      "Winchester       13\n",
      "Porterville      10\n",
      "Spring Valley     9\n",
      "Name: Place, dtype: int64\n"
     ]
    }
   ],
   "source": [
    "# 10. Which place has the least case of fire?\n",
    "\n",
    "# The place with the least number of fire cases, based on the bar graph below, is Spring Valley with a total of 9 \n",
    "# cases. \n",
    "\n",
    "plt.bar(places, case_per_place)\n",
    "plt.title(\"Number of Fire Cases in a Place\")\n",
    "plt.xlabel(\"Place\")\n",
    "plt.show()\n",
    "\n",
    "print(case_per_place)"
   ]
  },
  {
   "cell_type": "code",
   "execution_count": 18,
   "metadata": {},
   "outputs": [
    {
     "data": {
      "image/png": "[encoded data removed]",
      "text/plain": [
       "<Figure size 432x288 with 1 Axes>"
      ]
     },
     "metadata": {
      "needs_background": "light"
     },
     "output_type": "display_data"
    }
   ],
   "source": [
    "# Conclusion\n",
    "\n",
    "# To further understand the dataset, we can start by looking at the relationship between the temperature of a month \n",
    "# and the number of fire cases. Based on the resulting graph, we can see that there is a positive correlation \n",
    "# between the temperature and the number of cases. For instance, one of the lowest temperature occured on\n",
    "# January 2005 which is 22.05 degrees and there were no case of fire recorded. However, on March 2002, April 2004, \n",
    "# and March 2009, the temperature was all over 30 degrees and each has a number of 7 fire cases.\n",
    "\n",
    "x = df_fire[\"Temperature\"]\n",
    "y = df_fire[\"Number\"]\n",
    "\n",
    "plt.scatter(x, y)\n",
    "\n",
    "z = np.polyfit(x, y, 1)\n",
    "p = np.poly1d(z)\n",
    "plt.plot(x,p(x),\"r--\")\n",
    "\n",
    "plt.title(\"Relationship of Temperature to the Number of Fire Cases\")\n",
    "plt.xlabel(\"Temperature\")\n",
    "plt.ylabel(\"Number\")\n",
    "plt.show()"
   ]
  },
  {
   "cell_type": "code",
   "execution_count": 19,
   "metadata": {},
   "outputs": [
    {
     "data": {
      "image/png": "[encoded data removed]",
      "text/plain": [
       "<Figure size 432x288 with 1 Axes>"
      ]
     },
     "metadata": {
      "needs_background": "light"
     },
     "output_type": "display_data"
    }
   ],
   "source": [
    "# We could also take a look at the the relationship between the months and the temperature. From the graph, we \n",
    "# can observe that temperature rises from January to April. This explains why March is called the Fire Prevention \n",
    "# Month. March is the perfect month to discuss and raise awareness about fires as it signifies the start of the \n",
    "# summer season where temperature begins to rise.\n",
    "\n",
    "x = df_fire[\"Month\"]\n",
    "y = df_fire[\"Temperature\"]\n",
    "\n",
    "plt.scatter(x, y)\n",
    "\n",
    "plt.title(\"Temperature for each Month\")\n",
    "plt.xlabel(\"Month\")\n",
    "plt.ylabel(\"Temperature\")\n",
    "plt.show()"
   ]
  },
  {
   "cell_type": "code",
   "execution_count": 20,
   "metadata": {},
   "outputs": [],
   "source": [
    "# Essentially, the number of fire cases would increase as temperature increases and the temperature \n",
    "# usually rises during the summer season. For this reason, it is critical to keep track of the \n",
    "# months as they pass in order to be aware of the rise in temperature and make necessary precautions \n",
    "# to avoid a fire."
   ]
  }
 ],
 "metadata": {
  "interpreter": {
   "hash": "58837b1b657ea91009af8409fc244ae3b5ccf93ea980d6fb6b80adc5f697f4cc"
  },
  "kernelspec": {
   "display_name": "Python 3.10.2 64-bit",
   "language": "python",
   "name": "python3"
  },
  "language_info": {
   "codemirror_mode": {
    "name": "ipython",
    "version": 3
   },
   "file_extension": ".py",
   "mimetype": "text/x-python",
   "name": "python",
   "nbconvert_exporter": "python",
   "pygments_lexer": "ipython3",
   "version": "3.10.2 (tags/v3.10.2:a58ebcc, Jan 17 2022, 14:12:15) [MSC v.1929 64 bit (AMD64)]"
  },
  "orig_nbformat": 4
 },
 "nbformat": 4,
 "nbformat_minor": 2
}
